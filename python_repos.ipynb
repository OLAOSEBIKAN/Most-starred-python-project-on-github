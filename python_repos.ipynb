{
 "cells": [
  {
   "cell_type": "code",
   "execution_count": 1,
   "metadata": {},
   "outputs": [
    {
     "ename": "OSError",
     "evalue": "no library called \"cairo\" was found\nno library called \"libcairo-2\" was found\ncannot load library 'libcairo.so': dlopen(libcairo.so, 2): image not found\ncannot load library 'libcairo.2.dylib': dlopen(libcairo.2.dylib, 2): image not found\ncannot load library 'libcairo-2.dll': dlopen(libcairo-2.dll, 2): image not found",
     "output_type": "error",
     "traceback": [
      "\u001b[0;31m---------------------------------------------------------------------------\u001b[0m",
      "\u001b[0;31mOSError\u001b[0m                                   Traceback (most recent call last)",
      "\u001b[0;32m<ipython-input-1-2604b2edd292>\u001b[0m in \u001b[0;36m<module>\u001b[0;34m\u001b[0m\n\u001b[0;32m----> 1\u001b[0;31m \u001b[0;32mimport\u001b[0m \u001b[0mrequests\u001b[0m\u001b[0;34m,\u001b[0m \u001b[0mpygal\u001b[0m\u001b[0;34m,\u001b[0m \u001b[0mcairocffi\u001b[0m\u001b[0;34m,\u001b[0m \u001b[0mcairosvg\u001b[0m\u001b[0;34m\u001b[0m\u001b[0;34m\u001b[0m\u001b[0m\n\u001b[0m\u001b[1;32m      2\u001b[0m \u001b[0;32mfrom\u001b[0m \u001b[0mpygal\u001b[0m\u001b[0;34m.\u001b[0m\u001b[0mstyle\u001b[0m \u001b[0;32mimport\u001b[0m \u001b[0mLightColorizedStyle\u001b[0m \u001b[0;32mas\u001b[0m \u001b[0mLCS\u001b[0m\u001b[0;34m,\u001b[0m \u001b[0mLightenStyle\u001b[0m \u001b[0;32mas\u001b[0m \u001b[0mLS\u001b[0m\u001b[0;34m\u001b[0m\u001b[0;34m\u001b[0m\u001b[0m\n",
      "\u001b[0;32m/Library/Frameworks/Python.framework/Versions/3.7/lib/python3.7/site-packages/cairocffi/__init__.py\u001b[0m in \u001b[0;36m<module>\u001b[0;34m\u001b[0m\n\u001b[1;32m     48\u001b[0m cairo = dlopen(\n\u001b[1;32m     49\u001b[0m     \u001b[0mffi\u001b[0m\u001b[0;34m,\u001b[0m \u001b[0;34m(\u001b[0m\u001b[0;34m'cairo'\u001b[0m\u001b[0;34m,\u001b[0m \u001b[0;34m'libcairo-2'\u001b[0m\u001b[0;34m)\u001b[0m\u001b[0;34m,\u001b[0m\u001b[0;34m\u001b[0m\u001b[0;34m\u001b[0m\u001b[0m\n\u001b[0;32m---> 50\u001b[0;31m     ('libcairo.so', 'libcairo.2.dylib', 'libcairo-2.dll'))\n\u001b[0m\u001b[1;32m     51\u001b[0m \u001b[0;34m\u001b[0m\u001b[0m\n\u001b[1;32m     52\u001b[0m \u001b[0;34m\u001b[0m\u001b[0m\n",
      "\u001b[0;32m/Library/Frameworks/Python.framework/Versions/3.7/lib/python3.7/site-packages/cairocffi/__init__.py\u001b[0m in \u001b[0;36mdlopen\u001b[0;34m(ffi, library_names, filenames)\u001b[0m\n\u001b[1;32m     43\u001b[0m     error_message = '\\n'.join(  # pragma: no cover\n\u001b[1;32m     44\u001b[0m         str(exception) for exception in exceptions)\n\u001b[0;32m---> 45\u001b[0;31m     \u001b[0;32mraise\u001b[0m \u001b[0mOSError\u001b[0m\u001b[0;34m(\u001b[0m\u001b[0merror_message\u001b[0m\u001b[0;34m)\u001b[0m  \u001b[0;31m# pragma: no cover\u001b[0m\u001b[0;34m\u001b[0m\u001b[0;34m\u001b[0m\u001b[0m\n\u001b[0m\u001b[1;32m     46\u001b[0m \u001b[0;34m\u001b[0m\u001b[0m\n\u001b[1;32m     47\u001b[0m \u001b[0;34m\u001b[0m\u001b[0m\n",
      "\u001b[0;31mOSError\u001b[0m: no library called \"cairo\" was found\nno library called \"libcairo-2\" was found\ncannot load library 'libcairo.so': dlopen(libcairo.so, 2): image not found\ncannot load library 'libcairo.2.dylib': dlopen(libcairo.2.dylib, 2): image not found\ncannot load library 'libcairo-2.dll': dlopen(libcairo-2.dll, 2): image not found"
     ]
    }
   ],
   "source": [
    "import requests, pygal, cairocffi, cairosvg\n",
    "from pygal.style import LightColorizedStyle as LCS, LightenStyle as LS"
   ]
  },
  {
   "cell_type": "markdown",
   "metadata": {},
   "source": [
    "# Make an Api call and store the response"
   ]
  },
  {
   "cell_type": "code",
   "execution_count": null,
   "metadata": {},
   "outputs": [],
   "source": [
    "url = 'https://api.github.com/search/repositories?q=language:python&sort=stars'"
   ]
  },
  {
   "cell_type": "code",
   "execution_count": null,
   "metadata": {},
   "outputs": [],
   "source": [
    "r = requests.get(url)\n",
    "print('Status Code', r.status_code)"
   ]
  },
  {
   "cell_type": "code",
   "execution_count": null,
   "metadata": {},
   "outputs": [],
   "source": [
    "response_dict = r.json()\n",
    "print('Total repositories: ', response_dict['total_count'])"
   ]
  },
  {
   "cell_type": "code",
   "execution_count": null,
   "metadata": {},
   "outputs": [],
   "source": [
    "repo_dicts = response_dict['items']\n",
    "print('Repo returned: ', len(repo_dicts))"
   ]
  },
  {
   "cell_type": "code",
   "execution_count": null,
   "metadata": {},
   "outputs": [],
   "source": [
    "repo_dict = repo_dicts[0]\n",
    "print(\"\\nKeys:\", len(repo_dict))\n",
    "for key in sorted(repo_dict.keys()):\n",
    "    print(key)\n"
   ]
  },
  {
   "cell_type": "code",
   "execution_count": null,
   "metadata": {},
   "outputs": [],
   "source": [
    "print(\"\\nSelected information about first repository:\")\n",
    "print('Name:', repo_dict['name'])\n",
    "print('Owner:', repo_dict['owner']['login'])\n",
    "print('Stars:', repo_dict['stargazers_count'])\n",
    "print('Repository:', repo_dict['html_url'])\n",
    "print('Created:', repo_dict['created_at'])\n",
    "print('Updated:', repo_dict['updated_at'])\n",
    "print('Description:', repo_dict['description'])"
   ]
  },
  {
   "cell_type": "code",
   "execution_count": null,
   "metadata": {},
   "outputs": [],
   "source": [
    "names, stars = [], []\n",
    "for repo_dict in repo_dicts:\n",
    "    names.append(repo_dict['name']) \n",
    "    stars.append(repo_dict['stargazers_count'])"
   ]
  },
  {
   "cell_type": "code",
   "execution_count": null,
   "metadata": {},
   "outputs": [],
   "source": [
    "my_style = LS('#336', base_style = LCS)\n",
    "chart = pygal.Bar(style=my_style, x_label_rotation=45, show_legend=False)\n",
    "chart.title = 'Most-Starred Python Projects on GitHub'\n",
    "chart.x_labels = names\n",
    "\n",
    "chart.add('', stars) \n",
    "chart.render_to_png('python_repos.png')"
   ]
  },
  {
   "cell_type": "code",
   "execution_count": null,
   "metadata": {},
   "outputs": [],
   "source": []
  },
  {
   "cell_type": "code",
   "execution_count": null,
   "metadata": {},
   "outputs": [],
   "source": []
  }
 ],
 "metadata": {
  "kernelspec": {
   "display_name": "Python 3",
   "language": "python",
   "name": "python3"
  },
  "language_info": {
   "codemirror_mode": {
    "name": "ipython",
    "version": 3
   },
   "file_extension": ".py",
   "mimetype": "text/x-python",
   "name": "python",
   "nbconvert_exporter": "python",
   "pygments_lexer": "ipython3",
   "version": "3.7.4"
  }
 },
 "nbformat": 4,
 "nbformat_minor": 2
}
